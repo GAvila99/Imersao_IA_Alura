{
  "nbformat": 4,
  "nbformat_minor": 0,
  "metadata": {
    "colab": {
      "provenance": [],
      "include_colab_link": true
    },
    "kernelspec": {
      "name": "python3",
      "display_name": "Python 3"
    },
    "language_info": {
      "name": "python"
    }
  },
  "cells": [
    {
      "cell_type": "markdown",
      "metadata": {
        "id": "view-in-github",
        "colab_type": "text"
      },
      "source": [
        "<a href=\"https://colab.research.google.com/github/GAvila99/Imersao_IA_Alura/blob/main/resumo_diario.ipynb\" target=\"_parent\"><img src=\"https://colab.research.google.com/assets/colab-badge.svg\" alt=\"Open In Colab\"/></a>"
      ]
    },
    {
      "cell_type": "code",
      "source": [
        "!pip -q install google-genai"
      ],
      "metadata": {
        "id": "Q7pD6vXepA4y"
      },
      "execution_count": 1,
      "outputs": []
    },
    {
      "cell_type": "code",
      "source": [
        "import os\n",
        "from google.colab import userdata\n",
        "\n",
        "os.environ[\"GOOGLE_API_KEY\"] = userdata.get('GOOGLE_API_KEY')"
      ],
      "metadata": {
        "id": "mpq-HYvQpSxK"
      },
      "execution_count": 2,
      "outputs": []
    },
    {
      "cell_type": "code",
      "source": [
        "from google import genai\n",
        "\n",
        "client = genai.Client()\n",
        "\n",
        "MODEL_ID = \"gemini-2.0-flash\""
      ],
      "metadata": {
        "id": "5tgpwe6wpV3z"
      },
      "execution_count": 3,
      "outputs": []
    },
    {
      "cell_type": "code",
      "source": [
        "!pip install requests==2.32.3"
      ],
      "metadata": {
        "id": "LVusYkRxpl8-",
        "colab": {
          "base_uri": "https://localhost:8080/"
        },
        "outputId": "20a155eb-1ea8-4588-8c4b-b404262ff8db"
      },
      "execution_count": 6,
      "outputs": [
        {
          "output_type": "stream",
          "name": "stdout",
          "text": [
            "Requirement already satisfied: requests==2.32.3 in /usr/local/lib/python3.11/dist-packages (2.32.3)\n",
            "Requirement already satisfied: charset-normalizer<4,>=2 in /usr/local/lib/python3.11/dist-packages (from requests==2.32.3) (3.4.2)\n",
            "Requirement already satisfied: idna<4,>=2.5 in /usr/local/lib/python3.11/dist-packages (from requests==2.32.3) (3.10)\n",
            "Requirement already satisfied: urllib3<3,>=1.21.1 in /usr/local/lib/python3.11/dist-packages (from requests==2.32.3) (2.5.0)\n",
            "Requirement already satisfied: certifi>=2017.4.17 in /usr/local/lib/python3.11/dist-packages (from requests==2.32.3) (2025.7.14)\n"
          ]
        }
      ]
    },
    {
      "cell_type": "code",
      "source": [
        "# =============================================================================\n",
        "# Projeto: Meu Resumo Local Diário - Configuração Inicial\n",
        "# =============================================================================\n",
        "\n",
        "# --- Instalar Bibliotecas Necessárias ---\n",
        "# Se estiver usando uma versão recente do Colab, 'google-cloud-aiplatform'\n",
        "# geralmente inclui as bibliotecas ADK e GenAI.\n",
        "# Caso contrário, você pode precisar instalar individualmente:\n",
        "# !pip install google-cloud-aiplatform google-colab google-generativeai textwrap\n",
        "# ou apenas:\n",
        "!pip install -q google-cloud-aiplatform google-colab\n",
        "\n",
        "print(\"Dependências verificadas/instaladas.\")\n",
        "\n",
        "# --- Importações ---\n",
        "import os\n",
        "from google.colab import userdata # Usado para carregar segredos no Google Colab\n",
        "from google.adk.agents import Agent # Importa a classe base para criar agentes\n",
        "from google.adk.runners import Runner # Usado para executar agentes\n",
        "from google.adk.sessions import InMemorySessionService # Serviço de sessão em memória para o runner\n",
        "# Nota: A ferramenta Google Search geralmente é importada diretamente do pacote tools\n",
        "from google.adk.tools import google_search # Ferramenta para realizar buscas no Google\n",
        "from google.genai import types # Tipos de dados usados pelo GenAI\n",
        "from IPython.display import display, Markdown # Para exibir output formatado em Notebooks\n",
        "import textwrap # Para formatar texto\n",
        "\n",
        "print(\"Importações realizadas.\")"
      ],
      "metadata": {
        "colab": {
          "base_uri": "https://localhost:8080/"
        },
        "id": "eD29RUZNqw2l",
        "outputId": "267cc767-85e6-4549-9ee2-6d2cff75a42b"
      },
      "execution_count": 7,
      "outputs": [
        {
          "output_type": "stream",
          "name": "stdout",
          "text": [
            "\u001b[?25l   \u001b[90m━━━━━━━━━━━━━━━━━━━━━━━━━━━━━━━━━━━━━━━━\u001b[0m \u001b[32m0.0/1.6 MB\u001b[0m \u001b[31m?\u001b[0m eta \u001b[36m-:--:--\u001b[0m\r\u001b[2K   \u001b[91m━━━━━\u001b[0m\u001b[91m╸\u001b[0m\u001b[90m━━━━━━━━━━━━━━━━━━━━━━━━━━━━━━━━━━\u001b[0m \u001b[32m0.2/1.6 MB\u001b[0m \u001b[31m6.4 MB/s\u001b[0m eta \u001b[36m0:00:01\u001b[0m\r\u001b[2K   \u001b[91m━━━━━━━━━━━━━━━━━━━━━━━━━━━━━━━━━━━━━━━\u001b[0m\u001b[91m╸\u001b[0m \u001b[32m1.6/1.6 MB\u001b[0m \u001b[31m22.7 MB/s\u001b[0m eta \u001b[36m0:00:01\u001b[0m\r\u001b[2K   \u001b[90m━━━━━━━━━━━━━━━━━━━━━━━━━━━━━━━━━━━━━━━━\u001b[0m \u001b[32m1.6/1.6 MB\u001b[0m \u001b[31m17.8 MB/s\u001b[0m eta \u001b[36m0:00:00\u001b[0m\n",
            "\u001b[?25hDependências verificadas/instaladas.\n",
            "Importações realizadas.\n"
          ]
        }
      ]
    },
    {
      "cell_type": "code",
      "source": [
        "# =============================================================================\n",
        "# Configuração da Chave de API\n",
        "# =============================================================================\n",
        "\n",
        "# É CRUCIAL manter sua chave de API segura e NUNCA publicá-la diretamente no código.\n",
        "# No Google Colab, a forma mais segura de fazer isso é usando Segredos (Secrets).\n",
        "# 1. No menu à esquerda do Colab, clique no ícone de chave (Secrets).\n",
        "# 2. Clique em '+ New secret'.\n",
        "# 3. No campo 'Name', digite: GOOGLE_API_KEY\n",
        "# 4. No campo 'Value', cole a sua chave da API do Google Generative AI.\n",
        "# 5. Certifique-se de que a opção 'Notebook access' esteja marcada como ON para este notebook.\n",
        "\n",
        "try:\n",
        "    # Tenta carregar a chave de API dos segredos do Google Colab\n",
        "    os.environ[\"GOOGLE_API_KEY\"] = userdata.get('GOOGLE_API_KEY')\n",
        "    print(\"Chave de API do Google carregada com sucesso dos segredos do Colab.\")\n",
        "except userdata.NotInColabError:\n",
        "    # Mensagem caso não esteja rodando no Google Colab\n",
        "    print(\"Aviso: Não está no ambiente Google Colab. Certifique-se de configurar a variável de ambiente GOOGLE_API_KEY manualmente.\")\n",
        "    # Se estiver rodando localmente ou em outro ambiente, você precisará definir a variável de ambiente GOOGLE_API_KEY.\n",
        "    # Exemplo (NÃO recomendado para chaves diretamente no código em produção!):\n",
        "    # os.environ[\"GOOGLE_API_KEY\"] = \"SUA_CHAVE_DA_API_AQUI\" # <-- COLOQUE SUA CHAVE AQUI SE NÃO ESTIVER USANDO COLAB SECRETS\n",
        "    # LEMBRE-SE: A forma mais segura é usar variáveis de ambiente ou um gerenciador de segredos.\n",
        "except Exception as e:\n",
        "    print(f\"Erro ao carregar a chave de API do Google: {e}\")\n",
        "    print(\"Por favor, verifique se a chave 'GOOGLE_API_KEY' está configurada corretamente nos segredos do Colab.\")\n",
        "\n",
        "# Define o modelo de linguagem a ser usado pelos agentes\n",
        "# 'gemini-2.0-flash' é um bom modelo para começar, equilibrando custo e desempenho.\n",
        "MODEL_ID = \"gemini-2.0-flash\"\n",
        "print(f\"Modelo de linguagem definido: {MODEL_ID}\")"
      ],
      "metadata": {
        "colab": {
          "base_uri": "https://localhost:8080/"
        },
        "id": "qSvSMuiwrZOY",
        "outputId": "d689f097-a7d7-452d-9be0-3818a027e7bc"
      },
      "execution_count": 8,
      "outputs": [
        {
          "output_type": "stream",
          "name": "stdout",
          "text": [
            "Chave de API do Google carregada com sucesso dos segredos do Colab.\n",
            "Modelo de linguagem definido: gemini-2.0-flash\n"
          ]
        }
      ]
    },
    {
      "cell_type": "code",
      "source": [
        "import asyncio\n",
        "\n",
        "\n",
        "# =============================================================================\n",
        "# Funções Auxiliares\n",
        "# =============================================================================\n",
        "\n",
        "async def call_agent(agent: Agent, message_text: str) -> str:\n",
        "    \"\"\"\n",
        "    Função para executar um agente ADK e obter sua resposta final.\n",
        "\n",
        "    Args:\n",
        "        agent: O objeto Agent a ser executado.\n",
        "        message_text: A mensagem de entrada para o agente.\n",
        "\n",
        "    Returns:\n",
        "        Uma string contendo a resposta final do agente.\n",
        "    \"\"\"\n",
        "    session_service = InMemorySessionService()\n",
        "    # Note: Usando IDs fixos por simplicidade neste exemplo\n",
        "    session = await session_service.create_session(app_name=agent.name, user_id=\"user1\", session_id=\"session1\")\n",
        "    runner = Runner(agent=agent, app_name=agent.name, session_service=session_service)\n",
        "    content = types.Content(role=\"user\", parts=[types.Part(text=message_text)])\n",
        "\n",
        "    final_response = \"\"\n",
        "    # Itera sobre os eventos retornados pelo runner para capturar a resposta final\n",
        "    try:\n",
        "      async for event in runner.run(user_id=\"user1\", session_id=\"session1\", new_message=content):\n",
        "          # Verifica se é a resposta final do agente\n",
        "          if event.is_final_response():\n",
        "              # Concatena as partes de texto da resposta\n",
        "              for part in event.content.parts:\n",
        "                  if part.text is not None:\n",
        "                      final_response += part.text\n",
        "              # final_response += \"\\n\" # Removido quebra de linha extra para síntese\n",
        "          # Opcional: Imprimir eventos para debug\n",
        "          # print(f\"Evento: {event}\")\n",
        "    except Exception as e:\n",
        "        print(f\"Erro durante a execução do agente {agent.name}: {e}\")\n",
        "        return \"Erro na execução do agente.\"\n",
        "\n",
        "\n",
        "    # Adiciona uma quebra de linha no final da resposta para melhor separação visual\n",
        "    if final_response:\n",
        "        final_response += \"\\n\"\n",
        "\n",
        "    return final_response.strip() # Remove espaços em branco no início/fim\n",
        "\n",
        "def to_markdown(text):\n",
        "    \"\"\"\n",
        "    Formata texto para exibição em Markdown, substituindo marcadores e adicionando indentação.\n",
        "\n",
        "    Args:\n",
        "        text: O texto a ser formatado.\n",
        "\n",
        "    Returns:\n",
        "        Um objeto Markdown para exibição.\n",
        "    \"\"\"\n",
        "    text = text.replace('•', '  *') # Substitui marcadores de lista comuns por markdown\n",
        "    # Adiciona indentação ao texto para uma apresentação mais limpa\n",
        "    # return Markdown(textwrap.indent(text, '', predicate=lambda line: True)) # Mantém o texto como está para markdown\n",
        "    return Markdown(text) # Simplesmente retorna como Markdown para a exibição padrão do Colab\n",
        "\n",
        "print(\"Funções auxiliares definidas.\")"
      ],
      "metadata": {
        "colab": {
          "base_uri": "https://localhost:8080/"
        },
        "id": "A1OrDcaErlJs",
        "outputId": "8a276291-fc1a-48ce-f803-83d99e497938"
      },
      "execution_count": 21,
      "outputs": [
        {
          "output_type": "stream",
          "name": "stdout",
          "text": [
            "Funções auxiliares definidas.\n"
          ]
        }
      ]
    },
    {
      "cell_type": "code",
      "source": [
        "# =============================================================================\n",
        "# Componentes do Projeto (Funções Python)\n",
        "# =============================================================================\n",
        "\n",
        "# --- Componente 1: Coleta de Preferências do Usuário (Função Python) ---\n",
        "def coletar_preferencias_usuario():\n",
        "    \"\"\"\n",
        "    Coleta a localização e o tipo de informação desejada pelo usuário.\n",
        "\n",
        "    Returns:\n",
        "        Uma tupla contendo a localização (str) e o tipo de informação (str).\n",
        "    \"\"\"\n",
        "    print(\"\\n\" + \"=\" * 40) # Separador visual\n",
        "    print(\"--- Bem-vindo ao Seu Resumo Local Diário! ---\")\n",
        "    print(\"Vamos coletar algumas informações para gerar seu resumo.\")\n",
        "    print(\"=\" * 40) # Separador visual\n",
        "\n",
        "    localizacao = input(\"Por favor, digite sua cidade (ex: Rio de Janeiro): \")\n",
        "    tipo_informacao = input(\"Que tipo de informação local você gostaria de receber hoje? (ex: Notícias, Previsão do tempo, Eventos, Promoções): \")\n",
        "\n",
        "    print(\"-\" * 40) # Linha separadora para clareza\n",
        "    return localizacao.strip(), tipo_informacao.strip() # Remove espaços em branco\n",
        "\n",
        "# --- Componente 4: Apresentador (Função Python) ---\n",
        "def apresentar_resumo(resumo: str):\n",
        "    \"\"\"\n",
        "    Apresenta o resumo final ao usuário em formato Markdown.\n",
        "\n",
        "    Args:\n",
        "        resumo: A string contendo o resumo a ser exibido.\n",
        "    \"\"\"\n",
        "    print(\"\\n\" + \"=\" * 40) # Separador visual\n",
        "    print(\"--- Seu Resumo Diário Local ---\")\n",
        "    print(\"=\" * 40) # Separador visual\n",
        "\n",
        "    # Usa a função auxiliar para formatar e exibir em Markdown\n",
        "    display(to_markdown(resumo))\n",
        "\n",
        "    print(\"-\" * 40) # Linha separadora final\n",
        "    print(\"Fim do Resumo Diário.\")\n",
        "    print(\"-\" * 40) # Linha separadora final\n",
        "\n",
        "print(\"Funções de coleta e apresentação definidas.\")"
      ],
      "metadata": {
        "colab": {
          "base_uri": "https://localhost:8080/"
        },
        "id": "ivs9hYkvrqJg",
        "outputId": "bfc36692-8ff2-4e64-883c-3f9c32f4b24e"
      },
      "execution_count": 22,
      "outputs": [
        {
          "output_type": "stream",
          "name": "stdout",
          "text": [
            "Funções de coleta e apresentação definidas.\n"
          ]
        }
      ]
    },
    {
      "cell_type": "code",
      "source": [
        "# =============================================================================\n",
        "# Componentes do Projeto (Agentes ADK)\n",
        "# =============================================================================\n",
        "\n",
        "# --- Componente 2: Agente de Busca Local (Agente ADK com Google Search) ---\n",
        "# A ferramenta Google Search já foi importada na seção de importações iniciais como 'google_search'\n",
        "\n",
        "def agente_busca_local(localizacao: str, tipo_informacao: str):\n",
        "    \"\"\"\n",
        "    Agente que utiliza a ferramenta Google Search para buscar informações locais.\n",
        "\n",
        "    Args:\n",
        "        localizacao: A cidade ou área para buscar informações.\n",
        "        tipo_informacao: O tipo de informação a ser buscada (ex: Notícias, Previsão do tempo).\n",
        "\n",
        "    Returns:\n",
        "        O resultado da busca como uma string de texto contendo snippets relevantes.\n",
        "    \"\"\"\n",
        "\n",
        "\n",
        "    # Cria a instrução detalhada para o agente de busca\n",
        "    instrucao_busca = f\"\"\"\n",
        "    Você é um assistente especializado em buscar informações locais recentes usando a ferramenta de busca do google (Google Search).\n",
        "    Sua tarefa é realizar uma busca precisa por '{tipo_informacao} em {localizacao}'.\n",
        "    Foque em encontrar resultados que sejam atualizados e relevantes para a localização e o tipo de informação solicitados.\n",
        "    Retorne os snippets (trechos curtos) dos resultados da busca que contêm as informações mais importantes e diretas sobre o tópico.\n",
        "    Não tente interpretar, resumir ou analisar a informação neste momento; apenas extraia e apresente os trechos relevantes da busca.\n",
        "    Se não encontrar resultados relevantes, indique isso claramente.\n",
        "    \"\"\"\n",
        "\n",
        "    # Define o Agente de Busca Local com a ferramenta Google Search\n",
        "    # CORREÇÃO: Nome do agente alterado para ser um identificador válido\n",
        "    buscador_local = Agent(\n",
        "        name=\"Agente_Busca_Local\", # Alterado de \"Agente Busca Local\"\n",
        "        model=MODEL_ID, # Usa o modelo de linguagem definido\n",
        "        instruction=instrucao_busca,\n",
        "        description=\"Agente que busca informações locais na web usando Google Search e retorna snippets relevantes.\",\n",
        "        # Use o objeto google_search que foi importado anteriormente, não tente instanciar GoogleSearch\n",
        "        tools=[google_search]\n",
        "    )\n",
        "\n",
        "    # A entrada para este agente é o comando para realizar a busca específica\n",
        "    entrada_do_agente = f\"Realize a busca por '{tipo_informacao} em {localizacao}' e apresente os snippets relevantes.\"\n",
        "\n",
        "    # Executa o agente de busca usando a função auxiliar\n",
        "    resultados_busca = call_agent(buscador_local, entrada_do_agente)\n",
        "\n",
        "    return resultados_busca\n",
        "\n",
        "# --- Componente 3: Agente de Análise e Síntese (Agente ADK para processar texto) ---\n",
        "def agente_analise_sintese(resultados_busca: str, localizacao: str, tipo_informacao: str):\n",
        "    \"\"\"\n",
        "    Agente que analisa os resultados da busca e sintetiza um resumo.\n",
        "\n",
        "    Args:\n",
        "        resultados_busca: A string contendo os snippets dos resultados da busca.\n",
        "        localizacao: A localização usada na busca.\n",
        "        tipo_informacao: O tipo de informação buscada.\n",
        "\n",
        "    Returns:\n",
        "        Uma string contendo o resumo formatado para o usuário.\n",
        "    \"\"\"\n",
        "\n",
        "    # Verifica se os resultados da busca são vazios ou indicam falha\n",
        "    # Esta verificação pode ser feita antes de chamar o agente para economizar recursos,\n",
        "    # mas mantive aqui para seguir a lógica original. O agente também é instruído a lidar com isso.\n",
        "    if not resultados_busca or \"não consegui encontrar\" in resultados_busca.lower() or \"nenhum resultado\" in resultados_busca.lower():\n",
        "          # Retorna uma mensagem informativa se não houver resultados válidos para sintetizar\n",
        "          return f\"Desculpe, não consegui encontrar informações recentes sobre '{tipo_informacao}' em '{localizacao}' no momento com os resultados disponíveis para criar um resumo.\"\n",
        "\n",
        "\n",
        "    # Cria a instrução detalhada para o agente de análise e síntese\n",
        "    instrucao_analise = f\"\"\"\n",
        "    Você recebeu trechos (snippets) de resultados de busca sobre '{tipo_informacao} em {localizacao}'.\n",
        "    Sua tarefa é ler cuidadosamente esses trechos, identificar as informações mais importantes, relevantes e atualizadas contidas neles, e sintetizá-las em um resumo conciso, claro e fácil de entender para o usuário.\n",
        "    O resumo deve ser apresentado de forma amigável, como um \"Resumo Diário\" focado em '{tipo_informacao}' para a área de '{localizacao}'.\n",
        "    Comece o resumo de forma direta, indicando o tópico e a localização.\n",
        "    Inclua os pontos principais que você conseguir extrair dos snippets, usando marcadores se apropriado (como '*'). Evite incluir informações irrelevantes ou repetidas.\n",
        "    Se os trechos forem insuficientes ou confusos, indique que as informações foram limitadas ou não totalmente claras.\n",
        "    Não invente informações que não estejam presentes nos snippets fornecidos.\n",
        "    \"\"\"\n",
        "\n",
        "    # Define o Agente de Análise e Síntese. Este agente não usa ferramentas externas.\n",
        "    # CORREÇÃO: Nome do agente alterado para ser um identificador válido\n",
        "    analisador_resumo = Agent(\n",
        "        name=\"Agente_Analise_Sintese\", # Alterado de \"Agente Análise Síntese\"\n",
        "        model=MODEL_ID, # Usa o modelo de linguagem para análise e síntese\n",
        "        instruction=instrucao_analise,\n",
        "        description=\"Agente que analisa resultados de busca e cria um resumo conciso e relevante.\",\n",
        "        tools=[] # Este agente opera apenas sobre a entrada de texto, não usa ferramentas\n",
        "    )\n",
        "\n",
        "    # A entrada para este agente são os resultados brutos (snippets) da busca\n",
        "    entrada_do_agente = f\"Aqui estão os snippets dos resultados da busca sobre '{tipo_informacao} em {localizacao}':\\n\\n{resultados_busca}\\n\\nPor favor, analise esses snippets e crie um resumo diário para o usuário.\"\n",
        "\n",
        "    # Executa o agente de análise e síntese usando a função auxiliar\n",
        "    resumo_formatado = call_agent(analisador_resumo, entrada_do_agente)\n",
        "\n",
        "    return resumo_formatado\n",
        "\n",
        "print(\"Funções dos agentes definidas.\")"
      ],
      "metadata": {
        "colab": {
          "base_uri": "https://localhost:8080/"
        },
        "id": "8eCSOdGorvQO",
        "outputId": "a2c6e12a-a8f0-471d-aa67-c20802a3d797"
      },
      "execution_count": 23,
      "outputs": [
        {
          "output_type": "stream",
          "name": "stdout",
          "text": [
            "Funções dos agentes definidas.\n"
          ]
        }
      ]
    },
    {
      "cell_type": "code",
      "source": [
        "# =============================================================================\n",
        "# Lógica Principal de Execução\n",
        "# =============================================================================\n",
        "\n",
        "# Este bloco só será executado quando o script for rodado diretamente (ou seja,\n",
        "# quando esta célula for executada no Colab).\n",
        "\n",
        "print(\"\\n--- Iniciando Lógica Principal ---\")\n",
        "\n",
        "# 1. Coleta as preferências do usuário (Localização e Tipo de Informação)\n",
        "localizacao_usuario, tipo_informacao_usuario = coletar_preferencias_usuario()\n",
        "\n",
        "# Verifica se o usuário forneceu ambas as informações necessárias\n",
        "if localizacao_usuario and tipo_informacao_usuario:\n",
        "    # 2. Executa o Agente de Busca Local para obter snippets relevantes\n",
        "    resultados_da_busca = agente_busca_local(localizacao_usuario, tipo_informacao_usuario)\n",
        "\n",
        "    # Adiciona uma verificação aqui para não chamar o agente de síntese se a busca falhou\n",
        "    if resultados_da_busca and \"não consegui encontrar\" not in resultados_da_busca.lower() and \"nenhum resultado\" not in resultados_da_busca.lower():\n",
        "        # 3. Executa o Agente de Análise e Síntese para criar o resumo a partir dos resultados da busca\n",
        "        resumo_diario = agente_analise_sintese(resultados_da_busca, localizacao_usuario, tipo_informacao_usuario)\n",
        "\n",
        "        # 4. Apresenta o resumo formatado para o usuário\n",
        "        apresentar_resumo(resumo_diario)\n",
        "    else:\n",
        "         print(\"\\n\" + \"=\" * 40)\n",
        "         print(\"--- Não foi possível gerar o Resumo Diário ---\")\n",
        "         print(f\"Não foram encontrados resultados relevantes para '{tipo_informacao_usuario}' em '{localizacao_usuario}'.\")\n",
        "         print(\"=\" * 40)\n",
        "\n",
        "\n",
        "else:\n",
        "    # Mensagem caso faltem informações essenciais\n",
        "    print(\"\\nErro: Localização e/ou tipo de informação não foram fornecidos. Não foi possível gerar o resumo.\")\n",
        "\n",
        "print(\"\\n--- Fim da Lógica Principal ---\")"
      ],
      "metadata": {
        "colab": {
          "base_uri": "https://localhost:8080/",
          "height": 402
        },
        "id": "IzwZFX8jrzl1",
        "outputId": "080e60b9-0f97-4ac1-ccda-5ca0549fb36d"
      },
      "execution_count": 24,
      "outputs": [
        {
          "output_type": "stream",
          "name": "stdout",
          "text": [
            "\n",
            "--- Iniciando Lógica Principal ---\n",
            "\n",
            "========================================\n",
            "--- Bem-vindo ao Seu Resumo Local Diário! ---\n",
            "Vamos coletar algumas informações para gerar seu resumo.\n",
            "========================================\n",
            "Por favor, digite sua cidade (ex: Rio de Janeiro): Rio de Janeiro\n",
            "Que tipo de informação local você gostaria de receber hoje? (ex: Notícias, Previsão do tempo, Eventos, Promoções): Noticia\n",
            "----------------------------------------\n"
          ]
        },
        {
          "output_type": "error",
          "ename": "AttributeError",
          "evalue": "'coroutine' object has no attribute 'lower'",
          "traceback": [
            "\u001b[0;31m---------------------------------------------------------------------------\u001b[0m",
            "\u001b[0;31mAttributeError\u001b[0m                            Traceback (most recent call last)",
            "\u001b[0;32m/tmp/ipython-input-2924967613.py\u001b[0m in \u001b[0;36m<cell line: 0>\u001b[0;34m()\u001b[0m\n\u001b[1;32m     17\u001b[0m \u001b[0;34m\u001b[0m\u001b[0m\n\u001b[1;32m     18\u001b[0m     \u001b[0;31m# Adiciona uma verificação aqui para não chamar o agente de síntese se a busca falhou\u001b[0m\u001b[0;34m\u001b[0m\u001b[0;34m\u001b[0m\u001b[0m\n\u001b[0;32m---> 19\u001b[0;31m     \u001b[0;32mif\u001b[0m \u001b[0mresultados_da_busca\u001b[0m \u001b[0;32mand\u001b[0m \u001b[0;34m\"não consegui encontrar\"\u001b[0m \u001b[0;32mnot\u001b[0m \u001b[0;32min\u001b[0m \u001b[0mresultados_da_busca\u001b[0m\u001b[0;34m.\u001b[0m\u001b[0mlower\u001b[0m\u001b[0;34m(\u001b[0m\u001b[0;34m)\u001b[0m \u001b[0;32mand\u001b[0m \u001b[0;34m\"nenhum resultado\"\u001b[0m \u001b[0;32mnot\u001b[0m \u001b[0;32min\u001b[0m \u001b[0mresultados_da_busca\u001b[0m\u001b[0;34m.\u001b[0m\u001b[0mlower\u001b[0m\u001b[0;34m(\u001b[0m\u001b[0;34m)\u001b[0m\u001b[0;34m:\u001b[0m\u001b[0;34m\u001b[0m\u001b[0;34m\u001b[0m\u001b[0m\n\u001b[0m\u001b[1;32m     20\u001b[0m         \u001b[0;31m# 3. Executa o Agente de Análise e Síntese para criar o resumo a partir dos resultados da busca\u001b[0m\u001b[0;34m\u001b[0m\u001b[0;34m\u001b[0m\u001b[0m\n\u001b[1;32m     21\u001b[0m         \u001b[0mresumo_diario\u001b[0m \u001b[0;34m=\u001b[0m \u001b[0magente_analise_sintese\u001b[0m\u001b[0;34m(\u001b[0m\u001b[0mresultados_da_busca\u001b[0m\u001b[0;34m,\u001b[0m \u001b[0mlocalizacao_usuario\u001b[0m\u001b[0;34m,\u001b[0m \u001b[0mtipo_informacao_usuario\u001b[0m\u001b[0;34m)\u001b[0m\u001b[0;34m\u001b[0m\u001b[0;34m\u001b[0m\u001b[0m\n",
            "\u001b[0;31mAttributeError\u001b[0m: 'coroutine' object has no attribute 'lower'"
          ]
        }
      ]
    },
    {
      "cell_type": "code",
      "metadata": {
        "colab": {
          "base_uri": "https://localhost:8080/",
          "height": 413
        },
        "id": "65b96211",
        "outputId": "1bb9c1c5-80c9-4d19-e615-c5799e7b8651"
      },
      "source": [
        "!pip install -U requests"
      ],
      "execution_count": 13,
      "outputs": [
        {
          "output_type": "stream",
          "name": "stdout",
          "text": [
            "Requirement already satisfied: requests in /usr/local/lib/python3.11/dist-packages (2.32.3)\n",
            "Collecting requests\n",
            "  Using cached requests-2.32.4-py3-none-any.whl.metadata (4.9 kB)\n",
            "Requirement already satisfied: charset_normalizer<4,>=2 in /usr/local/lib/python3.11/dist-packages (from requests) (3.4.2)\n",
            "Requirement already satisfied: idna<4,>=2.5 in /usr/local/lib/python3.11/dist-packages (from requests) (3.10)\n",
            "Requirement already satisfied: urllib3<3,>=1.21.1 in /usr/local/lib/python3.11/dist-packages (from requests) (2.5.0)\n",
            "Requirement already satisfied: certifi>=2017.4.17 in /usr/local/lib/python3.11/dist-packages (from requests) (2025.7.14)\n",
            "Using cached requests-2.32.4-py3-none-any.whl (64 kB)\n",
            "Installing collected packages: requests\n",
            "  Attempting uninstall: requests\n",
            "    Found existing installation: requests 2.32.3\n",
            "    Uninstalling requests-2.32.3:\n",
            "      Successfully uninstalled requests-2.32.3\n",
            "\u001b[31mERROR: pip's dependency resolver does not currently take into account all the packages that are installed. This behaviour is the source of the following dependency conflicts.\n",
            "google-colab 1.0.0 requires requests==2.32.3, but you have requests 2.32.4 which is incompatible.\u001b[0m\u001b[31m\n",
            "\u001b[0mSuccessfully installed requests-2.32.4\n"
          ]
        },
        {
          "output_type": "display_data",
          "data": {
            "application/vnd.colab-display-data+json": {
              "pip_warning": {
                "packages": [
                  "requests"
                ]
              },
              "id": "f10ea00299b44f24823982bbbb266846"
            }
          },
          "metadata": {}
        }
      ]
    }
  ]
}